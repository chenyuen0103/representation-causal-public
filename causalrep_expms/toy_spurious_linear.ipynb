{
 "nbformat": 4,
 "nbformat_minor": 0,
 "metadata": {
  "colab": {
   "name": "toy_spurious_linear.ipynb",
   "provenance": [],
   "collapsed_sections": []
  },
  "kernelspec": {
   "name": "python3",
   "language": "python",
   "display_name": "Python 3 (ipykernel)"
  },
  "language_info": {
   "name": "python"
  }
 },
 "cells": [
  {
   "cell_type": "code",
   "metadata": {
    "id": "rqcGV42sCWVA",
    "colab": {
     "base_uri": "https://localhost:8080/"
    },
    "outputId": "b4450bc8-5fa8-459c-fabb-3efe67b2d197",
    "ExecuteTime": {
     "end_time": "2024-06-20T19:43:55.547914Z",
     "start_time": "2024-06-20T19:43:51.406332Z"
    }
   },
   "source": [
    "import numpy as np \n",
    "import numpy.random as npr\n",
    "\n",
    "from sklearn.linear_model import LinearRegression, Ridge\n",
    "from sklearn.decomposition import PCA\n",
    "import statsmodels.api as sm\n",
    "from numpy.linalg import cond"
   ],
   "execution_count": 3,
   "outputs": []
  },
  {
   "cell_type": "code",
   "metadata": {
    "id": "6bZDRw0QCbTN",
    "ExecuteTime": {
     "end_time": "2024-06-20T19:43:55.551671Z",
     "start_time": "2024-06-20T19:43:55.548376Z"
    }
   },
   "source": [
    "N=2000\n",
    "D=5 # number of features\n",
    "mean = np.zeros(D)\n",
    "corr = 0.9"
   ],
   "execution_count": 4,
   "outputs": []
  },
  {
   "cell_type": "code",
   "metadata": {
    "id": "IExJbx_iqvIj",
    "ExecuteTime": {
     "end_time": "2024-06-20T19:44:18.479884Z",
     "start_time": "2024-06-20T19:44:18.475373Z"
    }
   },
   "source": [
    "y_noise = 0.1\n",
    "# designate the core feature\n",
    "num_corefea = np.int32(D/2)\n",
    "true_cause = np.arange(num_corefea).astype(int)"
   ],
   "execution_count": 6,
   "outputs": []
  },
  {
   "cell_type": "markdown",
   "metadata": {
    "id": "iwDVxYBpDOqz"
   },
   "source": [
    "## generate simulated datasets with core and spurious features\n",
    "The outcome model is the same in training and testing; the outcome only depends on the core feature. \n",
    "\n",
    "In the training set, the covariates have high correlation. In the test set, the covariates have low correlation."
   ]
  },
  {
   "cell_type": "code",
   "metadata": {
    "id": "m-HCzHT3Cf38",
    "ExecuteTime": {
     "end_time": "2024-06-20T19:44:21.283677Z",
     "start_time": "2024-06-20T19:44:21.278729Z"
    }
   },
   "source": [
    "# simulate strongly correlated features for training\n",
    "train_cov = np.ones((D, D)) * corr + np.eye(D) * (1 - corr)\n",
    "train_x_true = npr.multivariate_normal(mean, train_cov, size=N)\n",
    "train_x_true = train_x_true * np.concatenate([-1 * np.ones(D//2), np.ones(D - D//2)])  # create both positive and negatively correlated covariates\n",
    "# train_x_true = np.exp(npr.multivariate_normal(mean, train_cov, size=N)) # exponential of gaussian; no need to be gaussian"
   ],
   "execution_count": 7,
   "outputs": []
  },
  {
   "cell_type": "code",
   "metadata": {
    "id": "iLMsNN55CltO",
    "ExecuteTime": {
     "end_time": "2024-06-20T19:44:21.996Z",
     "start_time": "2024-06-20T19:44:21.993548Z"
    }
   },
   "source": [
    "# simulate weakly correlated features for testing\n",
    "test_cov = np.ones((D, D)) * (1 - corr) + np.eye(D) * corr\n",
    "test_x_true = npr.multivariate_normal(mean, test_cov, size=N)\n",
    "# test_x_true = np.exp(npr.multivariate_normal(mean, test_cov, size=N))  # exponential of gaussian; no need to be gaussian"
   ],
   "execution_count": 8,
   "outputs": []
  },
  {
   "cell_type": "code",
   "metadata": {
    "id": "-ZMX8Jg4CrX4",
    "ExecuteTime": {
     "end_time": "2024-06-20T19:44:22.331282Z",
     "start_time": "2024-06-20T19:44:22.325485Z"
    }
   },
   "source": [
    "# add observation noise to the x\n",
    "# spurious correlation more often occurs when the signal to noise ratio is lower\n",
    "x_noise = np.array(list(np.ones(num_corefea)*0.4) + list(np.ones(D-num_corefea)*0.3))\n",
    "\n",
    "train_x = train_x_true + x_noise * npr.normal(size=[N,D])\n",
    "test_x = test_x_true + x_noise * npr.normal(size=[N,D])"
   ],
   "execution_count": 9,
   "outputs": []
  },
  {
   "cell_type": "code",
   "metadata": {
    "colab": {
     "base_uri": "https://localhost:8080/"
    },
    "id": "EyyWwYUVCtOZ",
    "outputId": "e5ddfeaa-d1ec-46ae-eefc-f94427109e55",
    "ExecuteTime": {
     "end_time": "2024-06-20T19:44:22.893028Z",
     "start_time": "2024-06-20T19:44:22.888111Z"
    }
   },
   "source": [
    "print(\"\\ntrain X correlation\\n\", np.corrcoef(train_x.T))\n",
    "print(\"\\ntest X correlation\\n\",np.corrcoef(test_x.T))"
   ],
   "execution_count": 10,
   "outputs": [
    {
     "name": "stdout",
     "output_type": "stream",
     "text": [
      "\n",
      "train X correlation\n",
      " [[ 1.          0.77540644 -0.79604528 -0.80342818 -0.79726048]\n",
      " [ 0.77540644  1.         -0.79111684 -0.79591483 -0.78772935]\n",
      " [-0.79604528 -0.79111684  1.          0.81572877  0.81272448]\n",
      " [-0.80342818 -0.79591483  0.81572877  1.          0.82228669]\n",
      " [-0.79726048 -0.78772935  0.81272448  0.82228669  1.        ]]\n",
      "\n",
      "test X correlation\n",
      " [[1.         0.10719651 0.13171293 0.10472425 0.11143371]\n",
      " [0.10719651 1.         0.07822715 0.11168419 0.09614733]\n",
      " [0.13171293 0.07822715 1.         0.0700423  0.10161975]\n",
      " [0.10472425 0.11168419 0.0700423  1.         0.09288308]\n",
      " [0.11143371 0.09614733 0.10161975 0.09288308 1.        ]]\n"
     ]
    }
   ]
  },
  {
   "cell_type": "code",
   "metadata": {
    "id": "DKSoRcs2DDnc",
    "ExecuteTime": {
     "end_time": "2024-06-20T19:44:25.518106Z",
     "start_time": "2024-06-20T19:44:25.508217Z"
    }
   },
   "source": [
    "# generate outcome\n",
    "# toy model y = x + noise\n",
    "truecoeff = npr.uniform(size=num_corefea) * 10\n",
    "train_y = train_x_true[:,true_cause].dot(truecoeff) + y_noise * npr.normal(size=N)\n",
    "test_y = test_x_true[:,true_cause].dot(truecoeff) + y_noise * npr.normal(size=N)"
   ],
   "execution_count": 11,
   "outputs": []
  },
  {
   "cell_type": "code",
   "outputs": [
    {
     "data": {
      "text/plain": "array([2.27431474, 5.04523172])"
     },
     "execution_count": 21,
     "metadata": {},
     "output_type": "execute_result"
    }
   ],
   "source": [
    "npr.uniform(size=num_corefea) * 10"
   ],
   "metadata": {
    "collapsed": false,
    "ExecuteTime": {
     "end_time": "2024-06-20T21:47:02.851577Z",
     "start_time": "2024-06-20T21:47:02.846072Z"
    }
   },
   "execution_count": 21
  },
  {
   "cell_type": "markdown",
   "metadata": {
    "id": "XFpZ9QpzIhnr"
   },
   "source": [
    "# baseline naive regression on all features"
   ]
  },
  {
   "cell_type": "code",
   "metadata": {
    "id": "E2sbJ2gFDzau",
    "ExecuteTime": {
     "end_time": "2024-06-20T19:44:32.478548Z",
     "start_time": "2024-06-20T19:44:32.473983Z"
    }
   },
   "source": [
    "# regularization parameter for ridge regression\n",
    "alpha = 10"
   ],
   "execution_count": 12,
   "outputs": []
  },
  {
   "cell_type": "code",
   "metadata": {
    "id": "OsSxRlmaEQF2",
    "ExecuteTime": {
     "end_time": "2024-06-20T21:47:54.246544Z",
     "start_time": "2024-06-20T21:47:54.243532Z"
    }
   },
   "source": [
    "def fitcoef(cov_train, train_y, cov_test=None, test_y=None):\n",
    "\t# linearReg\n",
    "\tprint(\"linearReg\")\n",
    "\treg = LinearRegression()\n",
    "\treg.fit(cov_train, train_y)\n",
    "\tprint(\"coef\", reg.coef_, \"intercept\", reg.intercept_)\n",
    "\tprint(\"train accuracy\", reg.score(cov_train, train_y))\n",
    "\tif cov_test is not None:\n",
    "\t\tprint(\"test accuracy\", reg.score(cov_test, test_y))\n",
    "\n",
    "\t# # linearReg with statsmodels\n",
    "\t# print(\"linearReg with statsmodels\")\n",
    "\t# model = sm.OLS(train_y,sm.add_constant(cov_train, prepend=False))\n",
    "\t# result = model.fit()\n",
    "\t# print(result.summary())\n",
    "\n",
    "\t# ridgeReg\n",
    "\tprint(\"ridgeReg\")\n",
    "\treg = Ridge(alpha=alpha)\n",
    "\treg.fit(cov_train, train_y)\n",
    "\tprint(\"coef\", reg.coef_, \"intercept\", reg.intercept_)\n",
    "\tprint(\"train accuracy\", reg.score(cov_train, train_y))\n",
    "\tif cov_test is not None:\n",
    "\t\tprint(\"test accuracy\", reg.score(cov_test, test_y))"
   ],
   "execution_count": 24,
   "outputs": []
  },
  {
   "cell_type": "markdown",
   "metadata": {
    "id": "I5-du6YAIprg"
   },
   "source": [
    "all three features have coefficient different from zeuo\n",
    "\n",
    "test accuracy degrades much from training accuracy."
   ]
  },
  {
   "cell_type": "code",
   "metadata": {
    "colab": {
     "base_uri": "https://localhost:8080/"
    },
    "id": "wwBkNPOkD-sN",
    "outputId": "479103cc-b29a-4786-b6f0-5f17b212ec84",
    "ExecuteTime": {
     "end_time": "2024-06-20T21:48:36.110663Z",
     "start_time": "2024-06-20T21:48:36.057165Z"
    }
   },
   "source": [
    "print(\"\\n###########################\\nall features\")\n",
    "\n",
    "cov_train = np.column_stack([train_x])\n",
    "cov_test = np.column_stack([test_x])\n",
    "\n",
    "fitcoef(cov_train, train_y, cov_test, test_y)"
   ],
   "execution_count": 25,
   "outputs": [
    {
     "name": "stdout",
     "output_type": "stream",
     "text": [
      "\n",
      "###########################\n",
      "all features\n",
      "linearReg\n",
      "coef [ 4.45126266  2.92847886 -1.68428032 -1.6388807  -1.53846371] intercept 0.034717321073559904\n",
      "train accuracy 0.9441345880837726\n",
      "test accuracy 0.5942319771837574\n",
      "ridgeReg\n",
      "coef [ 4.40654794  2.91488649 -1.69756989 -1.65500736 -1.5544649 ] intercept 0.03411778264715021\n",
      "train accuracy 0.9441290275123589\n",
      "test accuracy 0.5874050783760889\n"
     ]
    }
   ]
  },
  {
   "cell_type": "markdown",
   "metadata": {
    "id": "7q-0wlzpKFjK"
   },
   "source": [
    "next consider oracle, regression only on the core feature"
   ]
  },
  {
   "cell_type": "code",
   "metadata": {
    "colab": {
     "base_uri": "https://localhost:8080/"
    },
    "id": "Pzcu4pD5KKIn",
    "outputId": "7807565d-b61c-4f00-a35c-e63293b1e1f4",
    "ExecuteTime": {
     "end_time": "2024-06-20T21:49:21.562005Z",
     "start_time": "2024-06-20T21:49:21.555447Z"
    }
   },
   "source": [
    "print(\"\\n###########################\\nall features\")\n",
    "\n",
    "cov_train = np.column_stack([train_x[:,true_cause]])\n",
    "cov_test = np.column_stack([test_x[:,true_cause]])\n",
    "\n",
    "fitcoef(cov_train, train_y, cov_test, test_y)"
   ],
   "execution_count": 26,
   "outputs": [
    {
     "name": "stdout",
     "output_type": "stream",
     "text": [
      "\n",
      "###########################\n",
      "all features\n",
      "linearReg\n",
      "coef [6.65421435 4.98376463] intercept 0.06655121616127596\n",
      "train accuracy 0.9157677168589502\n",
      "test accuracy 0.8463744251321661\n",
      "ridgeReg\n",
      "coef [6.62325634 4.98531319] intercept 0.06596618989802233\n",
      "train accuracy 0.9157609661339334\n",
      "test accuracy 0.8458971748243646\n"
     ]
    }
   ]
  },
  {
   "cell_type": "markdown",
   "metadata": {
    "id": "tfNcqjQUI6zp"
   },
   "source": [
    "## causal-rep\n",
    "now try adjust for pca factor, then learn feature coefficient, construct a prediction function using the learned feature mapping, predict on the test set"
   ]
  },
  {
   "cell_type": "code",
   "metadata": {
    "colab": {
     "base_uri": "https://localhost:8080/"
    },
    "id": "HUjIH_5bId2q",
    "outputId": "eb8f5f79-4464-449c-964d-29a25acf7376",
    "ExecuteTime": {
     "end_time": "2024-06-20T21:50:08.934613Z",
     "start_time": "2024-06-20T21:50:08.892039Z"
    }
   },
   "source": [
    "# fit pca to high correlated training dataset\n",
    "pca = PCA(n_components=1)\n",
    "pca.fit(train_x)\n",
    "pca.transform(train_x)"
   ],
   "execution_count": 28,
   "outputs": [
    {
     "data": {
      "text/plain": "array([[-1.08967569],\n       [-1.5620393 ],\n       [ 0.01461153],\n       ...,\n       [ 1.71756862],\n       [ 0.71424637],\n       [-0.22230497]])"
     },
     "execution_count": 28,
     "metadata": {},
     "output_type": "execute_result"
    }
   ]
  },
  {
   "cell_type": "code",
   "metadata": {
    "colab": {
     "base_uri": "https://localhost:8080/"
    },
    "id": "fxsnRRvAEDyG",
    "outputId": "befb17b3-30af-4126-9d86-88121287b8c0",
    "ExecuteTime": {
     "end_time": "2024-06-20T21:50:10.273497Z",
     "start_time": "2024-06-20T21:50:10.175424Z"
    }
   },
   "source": [
    "# consider features 0,1 (have to consider a subset of features; \n",
    "# alternatively one can consider features 0,2\n",
    "# cannot consider all three due to colinearity issues \n",
    "# (a.k.a. violation of overlap))\n",
    "print(\"\\n###########################\\ncore + spurious 1 + pca\")\n",
    "candidate_trainfea = train_x[:,:-1]\n",
    "candidate_testfea = test_x[:,:-1]\n",
    "adjust_trainC = pca.transform(train_x)\n",
    "cov_train = np.column_stack([candidate_trainfea, adjust_trainC])\n",
    "print(\"linearReg\")\n",
    "feareg = LinearRegression()\n",
    "feareg.fit(cov_train, train_y)\n",
    "print(\"coef\", feareg.coef_, \"intercept\", feareg.intercept_)\n",
    "print(\"train accuracy\", feareg.score(cov_train, train_y))"
   ],
   "execution_count": 29,
   "outputs": [
    {
     "name": "stdout",
     "output_type": "stream",
     "text": [
      "\n",
      "###########################\n",
      "core + spurious 1 + pca\n",
      "linearReg\n",
      "coef [ 2.86393901  1.35455884 -0.12146095 -0.04293697 -3.51470226] intercept -0.15518568073231195\n",
      "train accuracy 0.9441345880837726\n"
     ]
    }
   ]
  },
  {
   "cell_type": "code",
   "metadata": {
    "id": "P8oMc64ViD9U",
    "ExecuteTime": {
     "end_time": "2024-06-20T19:45:14.134788Z",
     "start_time": "2024-06-20T19:45:14.127977Z"
    }
   },
   "source": [
    "# cond(candidate_trainfea.dot(candidate_trainfea.T))"
   ],
   "execution_count": 18,
   "outputs": []
  },
  {
   "cell_type": "markdown",
   "metadata": {
    "id": "6FomMpaGJhJb"
   },
   "source": [
    "above, after adjusting for pca factor, the spurious feature 1 returns close to zero coefficient"
   ]
  },
  {
   "cell_type": "code",
   "metadata": {
    "id": "ILIXp_EVE33w",
    "colab": {
     "base_uri": "https://localhost:8080/"
    },
    "outputId": "84cc20af-0176-45e0-b8dd-03dbaa2a08cf",
    "ExecuteTime": {
     "end_time": "2024-06-20T21:51:11.479517Z",
     "start_time": "2024-06-20T21:51:11.466994Z"
    }
   },
   "source": [
    "# construct a prediction model using the learned \n",
    "# feature combination of \"core + spurious 1\"\n",
    "learned_fea_train = candidate_trainfea.dot(feareg.coef_[:candidate_trainfea.shape[1]])[:,np.newaxis]\n",
    "predreg = LinearRegression()\n",
    "predreg.fit(learned_fea_train, train_y)\n",
    "print(\"trainfea_coef\", predreg.coef_, \"intercept\", predreg.intercept_)\n",
    "print(\"trainfea accuracy\", predreg.score(learned_fea_train, train_y))"
   ],
   "execution_count": 30,
   "outputs": [
    {
     "name": "stdout",
     "output_type": "stream",
     "text": [
      "trainfea_coef [2.64977992] intercept 0.04003524109076689\n",
      "trainfea accuracy 0.915908607480582\n"
     ]
    }
   ]
  },
  {
   "cell_type": "code",
   "metadata": {
    "id": "5eLwSdrzFPy4",
    "colab": {
     "base_uri": "https://localhost:8080/"
    },
    "outputId": "1f87456b-dcda-46bc-c9ea-936fa15d014b",
    "ExecuteTime": {
     "end_time": "2024-06-20T21:51:14.281079Z",
     "start_time": "2024-06-20T21:51:14.272571Z"
    }
   },
   "source": [
    "# apply the prediction model on the test data\n",
    "learned_fea_test = candidate_testfea.dot(feareg.coef_[:candidate_trainfea.shape[1]])[:,np.newaxis]\n",
    "print(\"testfea accuracy\", predreg.score(learned_fea_test, test_y))"
   ],
   "execution_count": 31,
   "outputs": [
    {
     "name": "stdout",
     "output_type": "stream",
     "text": [
      "testfea accuracy 0.8717332930238679\n"
     ]
    }
   ]
  },
  {
   "cell_type": "markdown",
   "metadata": {
    "id": "42g_Ne3kJ8Zt"
   },
   "source": [
    "above, the test accuracy no longer degrades much from the training accuracy.\n",
    "\n",
    "also note that the test accuracy is very close to the oracle accuracy."
   ]
  },
  {
   "cell_type": "code",
   "outputs": [],
   "source": [],
   "metadata": {
    "collapsed": false
   }
  }
 ]
}
