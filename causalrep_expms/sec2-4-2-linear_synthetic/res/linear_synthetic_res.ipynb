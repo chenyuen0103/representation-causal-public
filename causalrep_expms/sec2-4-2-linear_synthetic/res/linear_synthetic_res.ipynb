{
 "cells": [
  {
   "cell_type": "code",
   "execution_count": 24,
   "metadata": {
    "ExecuteTime": {
     "end_time": "2024-06-25T04:41:10.925127Z",
     "start_time": "2024-06-25T04:41:10.920344Z"
    }
   },
   "outputs": [],
   "source": [
    "import matplotlib.pyplot as plt\n",
    "import seaborn as sns\n",
    "import os\n",
    "from fnmatch import fnmatch\n",
    "import pandas as pd\n",
    "import numpy as np\n",
    "import time\n",
    "\n",
    "\n",
    "sns.set_style(\"white\")"
   ]
  },
  {
   "cell_type": "code",
   "outputs": [
    {
     "name": "stdout",
     "output_type": "stream",
     "text": [
      "../src/out/spurious_linear_l11719284510016680.csv\n",
      "renamed\n",
      "../src/out/spurious_linear_l11719279176973544.csv\n",
      "renamed\n",
      "../src/out/spurious_linear_l11719280504631938.csv\n",
      "renamed\n",
      "../src/out/spurious_linear_l11719283726185002.csv\n",
      "renamed\n",
      "../src/out/spurious_linear_l11719278611374313.csv\n",
      "renamed\n",
      "../src/out/spurious_linear_l11719281081644821.csv\n",
      "renamed\n",
      "../src/out/spurious_linear_l11719278989448885.csv\n",
      "renamed\n",
      "../src/out/spurious_linear_l11719278487501799.csv\n",
      "renamed\n",
      "../src/out/spurious_linear_l11719281725706154.csv\n",
      "renamed\n",
      "../src/out/spurious_linear_l11719284697233252.csv\n",
      "renamed\n",
      "../src/out/spurious_linear_l11719281361472561.csv\n",
      "renamed\n",
      "../src/out/spurious_linear_l11719285107871956.csv\n",
      "renamed\n",
      "../src/out/spurious_linear_l11719285037641383.csv\n",
      "renamed\n",
      "../src/out/spurious_linear_l11719282230951123.csv\n",
      "renamed\n",
      "../src/out/spurious_linear_l11719279641144257.csv\n",
      "renamed\n",
      "../src/out/spurious_linear_l11719283155246213.csv\n",
      "renamed\n",
      "../src/out/spurious_linear_l11719280433801953.csv\n",
      "renamed\n",
      "../src/out/spurious_linear_l11719280028191724.csv\n",
      "renamed\n",
      "../src/out/spurious_linear_l11719279702647901.csv\n",
      "renamed\n",
      "../src/out/spurious_linear_l11719280299882875.csv\n",
      "renamed\n",
      "../src/out/spurious_linear_l11719278425103276.csv\n",
      "renamed\n",
      "../src/out/spurious_linear_l11719283800862268.csv\n",
      "renamed\n",
      "../src/out/spurious_linear_l11719283941267940.csv\n",
      "renamed\n",
      "../src/out/spurious_linear_l11719279115573231.csv\n",
      "renamed\n",
      "../src/out/spurious_linear_l11719281154118731.csv\n",
      "renamed\n",
      "../src/out/spurious_linear_l11719284296580532.csv\n",
      "renamed\n",
      "../src/out/spurious_linear_l11719279575110073.csv\n",
      "renamed\n",
      "../src/out/spurious_linear_l11719280795127970.csv\n",
      "renamed\n",
      "../src/out/spurious_linear_l11719279512016875.csv\n",
      "renamed\n",
      "../src/out/spurious_linear_l11719282010191011.csv\n",
      "renamed\n",
      "../src/out/spurious_linear_l11719284827711714.csv\n",
      "renamed\n",
      "../src/out/spurious_linear_l11719283656676632.csv\n",
      "renamed\n",
      "../src/out/spurious_linear_l11719284762100875.csv\n",
      "renamed\n",
      "../src/out/spurious_linear_l11719279241836677.csv\n",
      "renamed\n",
      "../src/out/spurious_linear_l11719282943246878.csv\n",
      "renamed\n",
      "../src/out/spurious_linear_l11719281509822279.csv\n",
      "renamed\n",
      "../src/out/spurious_linear_l11719284896706610.csv\n",
      "renamed\n",
      "../src/out/spurious_linear_l11719280574286747.csv\n",
      "renamed\n",
      "../src/out/spurious_linear_l11719279958040817.csv\n",
      "renamed\n",
      "../src/out/spurious_linear_l11719278867245462.csv\n",
      "renamed\n",
      "../src/out/spurious_linear_l11719283512146124.csv\n",
      "renamed\n",
      "../src/out/spurious_linear_l11719279765775565.csv\n",
      "renamed\n",
      "../src/out/spurious_linear_l11719283439883963.csv\n",
      "renamed\n",
      "../src/out/spurious_linear_l11719279446722549.csv\n",
      "renamed\n",
      "../src/out/spurious_linear_l11719280365439359.csv\n",
      "renamed\n",
      "../src/out/spurious_linear_l11719282159197003.csv\n",
      "renamed\n",
      "../src/out/spurious_linear_l11719280933824452.csv\n",
      "renamed\n",
      "../src/out/spurious_linear_l11719282868235851.csv\n",
      "renamed\n",
      "../src/out/spurious_linear_l11719281219934066.csv\n",
      "renamed\n",
      "../src/out/spurious_linear_l11719282655782412.csv\n",
      "renamed\n",
      "../src/out/spurious_linear_l11719281010440136.csv\n",
      "renamed\n",
      "../src/out/spurious_linear_l11719280097056895.csv\n",
      "renamed\n",
      "../src/out/spurious_linear_l11719283868605142.csv\n",
      "renamed\n",
      "../src/out/spurious_linear_l11719284082665302.csv\n",
      "renamed\n",
      "../src/out/spurious_linear_l11719284442911100.csv\n",
      "renamed\n",
      "../src/out/spurious_linear_l11719283367642450.csv\n",
      "renamed\n",
      "../src/out/spurious_linear_l11719279377740546.csv\n",
      "renamed\n",
      "../src/out/spurious_linear_l11719279893149626.csv\n",
      "renamed\n",
      "../src/out/spurious_linear_l11719280640093471.csv\n",
      "renamed\n",
      "../src/out/spurious_linear_l11719278930296414.csv\n",
      "renamed\n",
      "../src/out/spurious_linear_l11719281441835103.csv\n",
      "renamed\n",
      "../src/out/spurious_linear_l11719283082755170.csv\n",
      "renamed\n",
      "../src/out/spurious_linear_l11719281870023189.csv\n",
      "renamed\n",
      "../src/out/spurious_linear_l11719282724141308.csv\n",
      "renamed\n",
      "../src/out/spurious_linear_l11719285250004048.csv\n",
      "renamed\n",
      "../src/out/spurious_linear_l11719282433379244.csv\n",
      "renamed\n",
      "../src/out/spurious_linear_l11719281286656772.csv\n",
      "renamed\n",
      "../src/out/spurious_linear_l11719282508449608.csv\n",
      "renamed\n",
      "../src/out/spurious_linear_l11719284227052974.csv\n",
      "renamed\n",
      "../src/out/spurious_linear_l11719280165084542.csv\n",
      "renamed\n",
      "../src/out/spurious_linear_l11719280717727246.csv\n",
      "renamed\n",
      "../src/out/spurious_linear_l11719281939390322.csv\n",
      "renamed\n",
      "../src/out/spurious_linear_l11719283295460077.csv\n",
      "renamed\n",
      "../src/out/spurious_linear_l11719280231850139.csv\n",
      "renamed\n",
      "../src/out/spurious_linear_l11719278549283488.csv\n",
      "renamed\n",
      "../src/out/spurious_linear_l11719282084674130.csv\n",
      "renamed\n",
      "../src/out/spurious_linear_l11719285177831312.csv\n",
      "renamed\n",
      "../src/out/spurious_linear_l11719281579550480.csv\n",
      "renamed\n",
      "../src/out/spurious_linear_l11719284156357509.csv\n",
      "renamed\n",
      "../src/out/spurious_linear_l11719284369339718.csv\n",
      "renamed\n",
      "../src/out/spurious_linear_l11719282365202460.csv\n",
      "renamed\n",
      "../src/out/spurious_linear_l11719278802964565.csv\n",
      "renamed\n",
      "../src/out/spurious_linear_l11719279832851663.csv\n",
      "renamed\n",
      "../src/out/spurious_linear_l11719283015784147.csv\n",
      "renamed\n",
      "../src/out/spurious_linear_l11719280865158856.csv\n",
      "renamed\n",
      "../src/out/spurious_linear_l11719281797897216.csv\n",
      "renamed\n",
      "../src/out/spurious_linear_l11719279049975318.csv\n",
      "renamed\n",
      "../src/out/spurious_linear_l11719284571581977.csv\n",
      "renamed\n",
      "../src/out/spurious_linear_l11719284011967083.csv\n",
      "renamed\n",
      "../src/out/spurious_linear_l11719282580045127.csv\n",
      "renamed\n",
      "../src/out/spurious_linear_l11719278677562460.csv\n",
      "renamed\n",
      "../src/out/spurious_linear_l11719284633832837.csv\n",
      "renamed\n",
      "../src/out/spurious_linear_l11719283226755927.csv\n",
      "renamed\n",
      "../src/out/spurious_linear_l11719283580657226.csv\n",
      "renamed\n",
      "../src/out/spurious_linear_l11719281652988673.csv\n",
      "renamed\n",
      "../src/out/spurious_linear_l11719282795198677.csv\n",
      "renamed\n",
      "../src/out/spurious_linear_l11719284962335583.csv\n",
      "renamed\n",
      "../src/out/spurious_linear_l11719282294327660.csv\n",
      "renamed\n",
      "../src/out/spurious_linear_l11719279310214098.csv\n",
      "renamed\n",
      "../src/out/spurious_linear_l11719278742106585.csv\n",
      "renamed\n"
     ]
    }
   ],
   "source": [
    "# accumulate fit random seed in the /src director\n",
    "pattern = \"*.csv\"\n",
    "outfilenames = []\n",
    "\n",
    "for path, subdirs, files in os.walk('../src/out/'):\n",
    "    # if it's a directory, skip it\n",
    "    \n",
    "    for name in files:\n",
    "        if fnmatch(name, pattern):\n",
    "            if 'spurious_linear_l11' in name:\n",
    "                # rename the file\n",
    "                os.rename(os.path.join(path, name), os.path.join(path, name.replace('spurious_linear_l11', 'spurious_linear_l1_1')))\n",
    "                print('renamed')"
   ],
   "metadata": {
    "collapsed": false,
    "ExecuteTime": {
     "end_time": "2024-06-25T04:55:36.660050Z",
     "start_time": "2024-06-25T04:55:36.641754Z"
    }
   },
   "execution_count": 41
  },
  {
   "cell_type": "code",
   "outputs": [],
   "source": [
    "# accumulate fit random seed in the /src director\n",
    "pattern = \"*.csv\"\n",
    "df_all_L1 = []\n",
    "\n",
    "# loop over the directories starts with 'out' in ../src\n",
    "for path, subdirs, files in os.walk('../src/'):\n",
    "    outfilenames = []\n",
    "    # if it not a directory, skip it\n",
    "    if 'out' in path and os.path.isdir(path):\n",
    "        for name in files:\n",
    "            if fnmatch(name, pattern):\n",
    "                outfilenames.append(os.path.join(path, name))\n",
    "    \n",
    "    dataframes = [pd.read_csv(df) for df in outfilenames]\n",
    "    if len(dataframes) > 0:\n",
    "        df_concat = pd.concat(dataframes)\n",
    "        df_concat['reg'] = 'l1'\n",
    "        df_concat['alpha'] = path.split('/')[-1].split('_')[-1]\n",
    "        df_concat.to_csv(f'{path}/linear_synthetic_agg_'+str(int(time.time()*1e6))+'.csv')\n",
    "        df_all_L1.append(df_concat)\n",
    "    \n",
    "df_all_L1 = pd.concat(df_all_L1)\n",
    "        \n",
    "\n"
   ],
   "metadata": {
    "collapsed": false,
    "ExecuteTime": {
     "end_time": "2024-06-25T22:39:14.889928Z",
     "start_time": "2024-06-25T22:39:13.843625Z"
    }
   },
   "execution_count": 99
  },
  {
   "cell_type": "code",
   "outputs": [
    {
     "data": {
      "text/plain": "    Unnamed: 0  causalrep_trainaccs_10000.0  causalrep_trainaccs_1000.0  \\\n0            0                     0.881440                    0.917370   \n0            0                     0.825913                    0.853592   \n0            0                     0.876054                    0.910402   \n0            0                     0.811052                    0.839095   \n0            0                     0.850352                    0.882190   \n..         ...                          ...                         ...   \n0            0                     0.907423                    0.945285   \n0            0                     0.884101                    0.918721   \n0            0                     0.831371                    0.862531   \n0            0                     0.853145                    0.885002   \n0            0                     0.871237                    0.905292   \n\n    causalrep_trainaccs_100.0  causalrep_trainaccs_10.0  \\\n0                    0.923767                  0.946842   \n0                    0.857892                  0.883747   \n0                    0.913750                  0.930897   \n0                    0.845902                  0.884455   \n0                    0.883621                  0.891214   \n..                        ...                       ...   \n0                    0.947609                  0.956026   \n0                    0.921152                  0.934496   \n0                    0.864100                  0.873782   \n0                    0.886514                  0.895447   \n0                    0.909309                  0.930954   \n\n    causalrep_trainaccs_1.0  causalrep_trainaccs_0.1  \\\n0                  0.957333                 0.957707   \n0                  0.919409                 0.923120   \n0                  0.949460                 0.950942   \n0                  0.925970                 0.929268   \n0                  0.909503                 0.913373   \n..                      ...                      ...   \n0                  0.961525                 0.961793   \n0                  0.955656                 0.958257   \n0                  0.909846                 0.924727   \n0                  0.925849                 0.936752   \n0                  0.955592                 0.957663   \n\n    causalrep_trainaccs_0.01  causalrep_trainaccs_0.001  \\\n0                   0.957712                   0.957712   \n0                   0.923175                   0.923175   \n0                   0.950963                   0.950963   \n0                   0.929318                   0.929319   \n0                   0.913454                   0.913455   \n..                       ...                        ...   \n0                   0.961797                   0.961797   \n0                   0.958300                   0.958300   \n0                   0.925186                   0.925188   \n0                   0.937070                   0.937073   \n0                   0.957695                   0.957696   \n\n    causalrep_trainaccs_0.0001  ...  batch_size  mode_latent  mode_train_data  \\\n0                     0.957712  ...         100         pcaz             text   \n0                     0.923175  ...         100         pcaz             text   \n0                     0.950963  ...         100         pcaz             text   \n0                     0.929319  ...         100         pcaz             text   \n0                     0.913454  ...         100         pcaz             text   \n..                         ...  ...         ...          ...              ...   \n0                     0.961797  ...         100         pcaz             text   \n0                     0.958300  ...         100         pcaz             text   \n0                     0.925188  ...         100         pcaz             text   \n0                     0.937073  ...         100         pcaz             text   \n0                     0.957696  ...         100         pcaz             text   \n\n    input_dim  randseed  Unnamed: 0.1  Unnamed: 0.2  reg  alpha  Unnamed: 0.3  \n0           5  18849294           NaN           NaN   l1    1.5           NaN  \n0           5  41325224           NaN           NaN   l1    1.5           NaN  \n0           5  42244014           NaN           NaN   l1    1.5           NaN  \n0           5  79059262           NaN           NaN   l1    1.5           NaN  \n0           5  47212018           NaN           NaN   l1    1.5           NaN  \n..        ...       ...           ...           ...  ...    ...           ...  \n0           5  65436488           NaN           NaN   l1    0.5           NaN  \n0           5  24613784           NaN           NaN   l1    0.5           NaN  \n0           5  98682160           NaN           NaN   l1    0.5           NaN  \n0           5  75030852           NaN           NaN   l1    0.5           NaN  \n0           5  64267184           NaN           NaN   l1    0.5           NaN  \n\n[3352 rows x 141 columns]",
      "text/html": "<div>\n<style scoped>\n    .dataframe tbody tr th:only-of-type {\n        vertical-align: middle;\n    }\n\n    .dataframe tbody tr th {\n        vertical-align: top;\n    }\n\n    .dataframe thead th {\n        text-align: right;\n    }\n</style>\n<table border=\"1\" class=\"dataframe\">\n  <thead>\n    <tr style=\"text-align: right;\">\n      <th></th>\n      <th>Unnamed: 0</th>\n      <th>causalrep_trainaccs_10000.0</th>\n      <th>causalrep_trainaccs_1000.0</th>\n      <th>causalrep_trainaccs_100.0</th>\n      <th>causalrep_trainaccs_10.0</th>\n      <th>causalrep_trainaccs_1.0</th>\n      <th>causalrep_trainaccs_0.1</th>\n      <th>causalrep_trainaccs_0.01</th>\n      <th>causalrep_trainaccs_0.001</th>\n      <th>causalrep_trainaccs_0.0001</th>\n      <th>...</th>\n      <th>batch_size</th>\n      <th>mode_latent</th>\n      <th>mode_train_data</th>\n      <th>input_dim</th>\n      <th>randseed</th>\n      <th>Unnamed: 0.1</th>\n      <th>Unnamed: 0.2</th>\n      <th>reg</th>\n      <th>alpha</th>\n      <th>Unnamed: 0.3</th>\n    </tr>\n  </thead>\n  <tbody>\n    <tr>\n      <th>0</th>\n      <td>0</td>\n      <td>0.881440</td>\n      <td>0.917370</td>\n      <td>0.923767</td>\n      <td>0.946842</td>\n      <td>0.957333</td>\n      <td>0.957707</td>\n      <td>0.957712</td>\n      <td>0.957712</td>\n      <td>0.957712</td>\n      <td>...</td>\n      <td>100</td>\n      <td>pcaz</td>\n      <td>text</td>\n      <td>5</td>\n      <td>18849294</td>\n      <td>NaN</td>\n      <td>NaN</td>\n      <td>l1</td>\n      <td>1.5</td>\n      <td>NaN</td>\n    </tr>\n    <tr>\n      <th>0</th>\n      <td>0</td>\n      <td>0.825913</td>\n      <td>0.853592</td>\n      <td>0.857892</td>\n      <td>0.883747</td>\n      <td>0.919409</td>\n      <td>0.923120</td>\n      <td>0.923175</td>\n      <td>0.923175</td>\n      <td>0.923175</td>\n      <td>...</td>\n      <td>100</td>\n      <td>pcaz</td>\n      <td>text</td>\n      <td>5</td>\n      <td>41325224</td>\n      <td>NaN</td>\n      <td>NaN</td>\n      <td>l1</td>\n      <td>1.5</td>\n      <td>NaN</td>\n    </tr>\n    <tr>\n      <th>0</th>\n      <td>0</td>\n      <td>0.876054</td>\n      <td>0.910402</td>\n      <td>0.913750</td>\n      <td>0.930897</td>\n      <td>0.949460</td>\n      <td>0.950942</td>\n      <td>0.950963</td>\n      <td>0.950963</td>\n      <td>0.950963</td>\n      <td>...</td>\n      <td>100</td>\n      <td>pcaz</td>\n      <td>text</td>\n      <td>5</td>\n      <td>42244014</td>\n      <td>NaN</td>\n      <td>NaN</td>\n      <td>l1</td>\n      <td>1.5</td>\n      <td>NaN</td>\n    </tr>\n    <tr>\n      <th>0</th>\n      <td>0</td>\n      <td>0.811052</td>\n      <td>0.839095</td>\n      <td>0.845902</td>\n      <td>0.884455</td>\n      <td>0.925970</td>\n      <td>0.929268</td>\n      <td>0.929318</td>\n      <td>0.929319</td>\n      <td>0.929319</td>\n      <td>...</td>\n      <td>100</td>\n      <td>pcaz</td>\n      <td>text</td>\n      <td>5</td>\n      <td>79059262</td>\n      <td>NaN</td>\n      <td>NaN</td>\n      <td>l1</td>\n      <td>1.5</td>\n      <td>NaN</td>\n    </tr>\n    <tr>\n      <th>0</th>\n      <td>0</td>\n      <td>0.850352</td>\n      <td>0.882190</td>\n      <td>0.883621</td>\n      <td>0.891214</td>\n      <td>0.909503</td>\n      <td>0.913373</td>\n      <td>0.913454</td>\n      <td>0.913455</td>\n      <td>0.913454</td>\n      <td>...</td>\n      <td>100</td>\n      <td>pcaz</td>\n      <td>text</td>\n      <td>5</td>\n      <td>47212018</td>\n      <td>NaN</td>\n      <td>NaN</td>\n      <td>l1</td>\n      <td>1.5</td>\n      <td>NaN</td>\n    </tr>\n    <tr>\n      <th>...</th>\n      <td>...</td>\n      <td>...</td>\n      <td>...</td>\n      <td>...</td>\n      <td>...</td>\n      <td>...</td>\n      <td>...</td>\n      <td>...</td>\n      <td>...</td>\n      <td>...</td>\n      <td>...</td>\n      <td>...</td>\n      <td>...</td>\n      <td>...</td>\n      <td>...</td>\n      <td>...</td>\n      <td>...</td>\n      <td>...</td>\n      <td>...</td>\n      <td>...</td>\n      <td>...</td>\n    </tr>\n    <tr>\n      <th>0</th>\n      <td>0</td>\n      <td>0.907423</td>\n      <td>0.945285</td>\n      <td>0.947609</td>\n      <td>0.956026</td>\n      <td>0.961525</td>\n      <td>0.961793</td>\n      <td>0.961797</td>\n      <td>0.961797</td>\n      <td>0.961797</td>\n      <td>...</td>\n      <td>100</td>\n      <td>pcaz</td>\n      <td>text</td>\n      <td>5</td>\n      <td>65436488</td>\n      <td>NaN</td>\n      <td>NaN</td>\n      <td>l1</td>\n      <td>0.5</td>\n      <td>NaN</td>\n    </tr>\n    <tr>\n      <th>0</th>\n      <td>0</td>\n      <td>0.884101</td>\n      <td>0.918721</td>\n      <td>0.921152</td>\n      <td>0.934496</td>\n      <td>0.955656</td>\n      <td>0.958257</td>\n      <td>0.958300</td>\n      <td>0.958300</td>\n      <td>0.958300</td>\n      <td>...</td>\n      <td>100</td>\n      <td>pcaz</td>\n      <td>text</td>\n      <td>5</td>\n      <td>24613784</td>\n      <td>NaN</td>\n      <td>NaN</td>\n      <td>l1</td>\n      <td>0.5</td>\n      <td>NaN</td>\n    </tr>\n    <tr>\n      <th>0</th>\n      <td>0</td>\n      <td>0.831371</td>\n      <td>0.862531</td>\n      <td>0.864100</td>\n      <td>0.873782</td>\n      <td>0.909846</td>\n      <td>0.924727</td>\n      <td>0.925186</td>\n      <td>0.925188</td>\n      <td>0.925188</td>\n      <td>...</td>\n      <td>100</td>\n      <td>pcaz</td>\n      <td>text</td>\n      <td>5</td>\n      <td>98682160</td>\n      <td>NaN</td>\n      <td>NaN</td>\n      <td>l1</td>\n      <td>0.5</td>\n      <td>NaN</td>\n    </tr>\n    <tr>\n      <th>0</th>\n      <td>0</td>\n      <td>0.853145</td>\n      <td>0.885002</td>\n      <td>0.886514</td>\n      <td>0.895447</td>\n      <td>0.925849</td>\n      <td>0.936752</td>\n      <td>0.937070</td>\n      <td>0.937073</td>\n      <td>0.937073</td>\n      <td>...</td>\n      <td>100</td>\n      <td>pcaz</td>\n      <td>text</td>\n      <td>5</td>\n      <td>75030852</td>\n      <td>NaN</td>\n      <td>NaN</td>\n      <td>l1</td>\n      <td>0.5</td>\n      <td>NaN</td>\n    </tr>\n    <tr>\n      <th>0</th>\n      <td>0</td>\n      <td>0.871237</td>\n      <td>0.905292</td>\n      <td>0.909309</td>\n      <td>0.930954</td>\n      <td>0.955592</td>\n      <td>0.957663</td>\n      <td>0.957695</td>\n      <td>0.957696</td>\n      <td>0.957696</td>\n      <td>...</td>\n      <td>100</td>\n      <td>pcaz</td>\n      <td>text</td>\n      <td>5</td>\n      <td>64267184</td>\n      <td>NaN</td>\n      <td>NaN</td>\n      <td>l1</td>\n      <td>0.5</td>\n      <td>NaN</td>\n    </tr>\n  </tbody>\n</table>\n<p>3352 rows × 141 columns</p>\n</div>"
     },
     "execution_count": 100,
     "metadata": {},
     "output_type": "execute_result"
    }
   ],
   "source": [
    "df_all_L1"
   ],
   "metadata": {
    "collapsed": false,
    "ExecuteTime": {
     "end_time": "2024-06-25T22:39:15.517055Z",
     "start_time": "2024-06-25T22:39:15.502408Z"
    }
   },
   "execution_count": 100
  },
  {
   "cell_type": "code",
   "execution_count": 47,
   "metadata": {
    "ExecuteTime": {
     "end_time": "2024-06-25T04:56:47.596084Z",
     "start_time": "2024-06-25T04:56:47.377137Z"
    }
   },
   "outputs": [],
   "source": [
    "# accumulate fit random seed in the /src director\n",
    "pattern = \"*.csv\"\n",
    "outfilenames = []\n",
    "for path, subdirs, files in os.walk('../src/out/'):\n",
    "    for name in files:\n",
    "        if fnmatch(name, pattern):\n",
    "            outfilenames.append(os.path.join(path, name)) \n",
    "\n",
    "\n",
    "dataframes = [pd.read_csv(df) for df in outfilenames]\n",
    "if len(dataframes) > 0:\n",
    "    df_concat = pd.concat(dataframes)\n",
    "    df_concat.to_csv('linear_synthetic_agg_'+str(int(time.time()*1e6))+'.csv')\n"
   ]
  },
  {
   "cell_type": "code",
   "outputs": [],
   "source": [
    "dataframes = [pd.read_csv(df) for df in outfilenames]\n",
    "if len(dataframes) > 0:\n",
    "    df_concat = pd.concat(dataframes)\n",
    "    df_concat.to_csv('linear_synthetic_agg_'+str(int(time.time()*1e6))+'.csv')"
   ],
   "metadata": {
    "collapsed": false,
    "ExecuteTime": {
     "end_time": "2024-06-25T04:56:48.320243Z",
     "start_time": "2024-06-25T04:56:48.171896Z"
    }
   },
   "execution_count": 48
  },
  {
   "cell_type": "code",
   "execution_count": 101,
   "metadata": {
    "ExecuteTime": {
     "end_time": "2024-06-25T22:39:23.879354Z",
     "start_time": "2024-06-25T22:39:23.868029Z"
    }
   },
   "outputs": [],
   "source": [
    "df_concat_l2 = pd.read_csv(\"linear_synthetic_agg_1630302542600186.csv\")\n",
    "\n",
    "linres = df_all_L1\n",
    "linres_l2 = df_concat_l2\n",
    "# print(list(linres.columns))\n",
    "\n",
    "subres_testct =  linres[[\n",
    "'causalrep_testctaccs_0.1', \\\n",
    "'naive_testct_lintestacc', \\\n",
    "'oracle_testct_lintestacc', \\\n",
    "'spurious_corr']]\n",
    "\n",
    "subres_testobs =  linres[['causalrep_testobsaccs_0.01', \\\n",
    "'naive_testobs_lintestacc', \\\n",
    "'oracle_testobs_lintestacc', \\\n",
    "'spurious_corr']]\n",
    "\n",
    "\n",
    "\n",
    "# plot diagonal line\n",
    "def plot_unity(xdata, ydata, **kwargs):\n",
    "    mn = min(xdata.min(), ydata.min())\n",
    "    mx = max(xdata.max(), ydata.max())\n",
    "    points = np.linspace(mn, mx, 100)\n",
    "    plt.gca().plot(points, points, color='k', marker=None,\n",
    "            linestyle='--', linewidth=1.0)"
   ]
  },
  {
   "cell_type": "code",
   "outputs": [],
   "source": [
    "subres_testct_l2 =  linres_l2[[\n",
    "'causalrep_testctaccs_0.1', \\\n",
    "'naive_testct_lintestacc', \\\n",
    "'oracle_testct_lintestacc', \\\n",
    "'spurious_corr']]\n",
    "\n",
    "subres_testobs_l2 =  linres_l2[['causalrep_testobsaccs_0.01', \\\n",
    "'naive_testobs_lintestacc', \\\n",
    "'oracle_testobs_lintestacc', \\\n",
    "'spurious_corr']]"
   ],
   "metadata": {
    "collapsed": false,
    "ExecuteTime": {
     "end_time": "2024-06-25T22:39:25.571902Z",
     "start_time": "2024-06-25T22:39:25.568371Z"
    }
   },
   "execution_count": 102
  },
  {
   "cell_type": "code",
   "execution_count": 103,
   "metadata": {
    "ExecuteTime": {
     "end_time": "2024-06-25T22:39:33.403177Z",
     "start_time": "2024-06-25T22:39:33.399221Z"
    }
   },
   "outputs": [],
   "source": [
    "# linres = df_concat[(df_concat['neg_corr']==1) & (df_concat['pm_coef']==1)]"
   ]
  },
  {
   "cell_type": "code",
   "execution_count": 104,
   "metadata": {
    "ExecuteTime": {
     "end_time": "2024-06-25T22:39:33.681978Z",
     "start_time": "2024-06-25T22:39:33.674019Z"
    }
   },
   "outputs": [],
   "source": [
    "linres_1_1 = linres[[\n",
    "'causalrep_testctaccs_0.0001', \\\n",
    "'naive_testct_lintestacc', \\\n",
    "'oracle_testct_lintestacc']].stack().reset_index().set_index('level_0').rename(columns={'level_1':'method',0:'acc'})"
   ]
  },
  {
   "cell_type": "code",
   "outputs": [],
   "source": [
    "linres_1_1 = (\n",
    "    linres.groupby('alpha')[[\n",
    "        'causalrep_testctaccs_0.0001',\n",
    "        'naive_testct_lintestacc',\n",
    "        'oracle_testct_lintestacc'\n",
    "    ]]\n",
    "    .apply(lambda df: df.stack().reset_index(level=1).rename(columns={'level_1': 'method', 0: 'acc'}))\n",
    "    .reset_index(level=1, drop=True)\n",
    ")"
   ],
   "metadata": {
    "collapsed": false,
    "ExecuteTime": {
     "end_time": "2024-06-25T22:42:16.325898Z",
     "start_time": "2024-06-25T22:42:16.315400Z"
    }
   },
   "execution_count": 108
  },
  {
   "cell_type": "code",
   "outputs": [],
   "source": [
    "linres_1_1 = linres_1_1[linres_1_1['method'].str.contains('causalrep_testctaccs_0.0001')]"
   ],
   "metadata": {
    "collapsed": false,
    "ExecuteTime": {
     "end_time": "2024-06-25T22:44:54.116884Z",
     "start_time": "2024-06-25T22:44:54.111805Z"
    }
   },
   "execution_count": 112
  },
  {
   "cell_type": "code",
   "outputs": [
    {
     "data": {
      "text/plain": "                            method       acc\nalpha                                       \n0.25   causalrep_testctaccs_0.0001  0.772796\n0.25   causalrep_testctaccs_0.0001  0.844499\n0.25   causalrep_testctaccs_0.0001  0.768117\n0.25   causalrep_testctaccs_0.0001  0.508237\n0.25   causalrep_testctaccs_0.0001  0.625833\n...                            ...       ...\nout    causalrep_testctaccs_0.0001  0.631739\nout    causalrep_testctaccs_0.0001  0.553757\nout    causalrep_testctaccs_0.0001  0.669201\nout    causalrep_testctaccs_0.0001  0.488011\nout    causalrep_testctaccs_0.0001  0.631739\n\n[3352 rows x 2 columns]",
      "text/html": "<div>\n<style scoped>\n    .dataframe tbody tr th:only-of-type {\n        vertical-align: middle;\n    }\n\n    .dataframe tbody tr th {\n        vertical-align: top;\n    }\n\n    .dataframe thead th {\n        text-align: right;\n    }\n</style>\n<table border=\"1\" class=\"dataframe\">\n  <thead>\n    <tr style=\"text-align: right;\">\n      <th></th>\n      <th>method</th>\n      <th>acc</th>\n    </tr>\n    <tr>\n      <th>alpha</th>\n      <th></th>\n      <th></th>\n    </tr>\n  </thead>\n  <tbody>\n    <tr>\n      <th>0.25</th>\n      <td>causalrep_testctaccs_0.0001</td>\n      <td>0.772796</td>\n    </tr>\n    <tr>\n      <th>0.25</th>\n      <td>causalrep_testctaccs_0.0001</td>\n      <td>0.844499</td>\n    </tr>\n    <tr>\n      <th>0.25</th>\n      <td>causalrep_testctaccs_0.0001</td>\n      <td>0.768117</td>\n    </tr>\n    <tr>\n      <th>0.25</th>\n      <td>causalrep_testctaccs_0.0001</td>\n      <td>0.508237</td>\n    </tr>\n    <tr>\n      <th>0.25</th>\n      <td>causalrep_testctaccs_0.0001</td>\n      <td>0.625833</td>\n    </tr>\n    <tr>\n      <th>...</th>\n      <td>...</td>\n      <td>...</td>\n    </tr>\n    <tr>\n      <th>out</th>\n      <td>causalrep_testctaccs_0.0001</td>\n      <td>0.631739</td>\n    </tr>\n    <tr>\n      <th>out</th>\n      <td>causalrep_testctaccs_0.0001</td>\n      <td>0.553757</td>\n    </tr>\n    <tr>\n      <th>out</th>\n      <td>causalrep_testctaccs_0.0001</td>\n      <td>0.669201</td>\n    </tr>\n    <tr>\n      <th>out</th>\n      <td>causalrep_testctaccs_0.0001</td>\n      <td>0.488011</td>\n    </tr>\n    <tr>\n      <th>out</th>\n      <td>causalrep_testctaccs_0.0001</td>\n      <td>0.631739</td>\n    </tr>\n  </tbody>\n</table>\n<p>3352 rows × 2 columns</p>\n</div>"
     },
     "execution_count": 113,
     "metadata": {},
     "output_type": "execute_result"
    }
   ],
   "source": [
    "linres_1_1 "
   ],
   "metadata": {
    "collapsed": false,
    "ExecuteTime": {
     "end_time": "2024-06-25T22:44:54.438395Z",
     "start_time": "2024-06-25T22:44:54.434348Z"
    }
   },
   "execution_count": 113
  },
  {
   "cell_type": "code",
   "outputs": [],
   "source": [
    "linres_1_1_l2 = linres_l2[[\n",
    "'causalrep_testctaccs_0.0001', \\\n",
    "'naive_testct_lintestacc', \\\n",
    "'oracle_testct_lintestacc']].stack().reset_index().set_index('level_0').rename(columns={'level_1':'method',0:'acc'})"
   ],
   "metadata": {
    "collapsed": false,
    "ExecuteTime": {
     "end_time": "2024-06-25T22:39:34.025624Z",
     "start_time": "2024-06-25T22:39:34.023319Z"
    }
   },
   "execution_count": 105
  },
  {
   "cell_type": "code",
   "outputs": [
    {
     "name": "stdout",
     "output_type": "stream",
     "text": [
      "                                 method       acc\n",
      "level_0                                          \n",
      "0        causalrep_testctaccs_0.0001_l1  0.700979\n",
      "0        causalrep_testctaccs_0.0001_l1  0.815041\n",
      "0        causalrep_testctaccs_0.0001_l1  0.721386\n",
      "0        causalrep_testctaccs_0.0001_l1  0.832707\n",
      "0        causalrep_testctaccs_0.0001_l1  0.699264\n",
      "...                                 ...       ...\n",
      "398             naive_testct_lintestacc  0.513439\n",
      "398            oracle_testct_lintestacc  0.800078\n",
      "399      causalrep_testctaccs_0.0001_l1  0.631739\n",
      "399             naive_testct_lintestacc  0.524724\n",
      "399            oracle_testct_lintestacc  0.863549\n",
      "\n",
      "[10356 rows x 2 columns]\n"
     ]
    }
   ],
   "source": [
    "# Rename the 'causalrep' method in both dataframes\n",
    "linres_1_1 = linres_1_1.reset_index()\n",
    "linres_1_1['method'] = linres_1_1['method'].replace('causalrep_testctaccs_0.0001', 'causalrep_testctaccs_0.0001_l1')\n",
    "\n",
    "linres_1_1_l2 = linres_1_1_l2.reset_index()\n",
    "linres_1_1_l2['method'] = linres_1_1_l2['method'].replace('causalrep_testctaccs_0.0001', 'causalrep_testctaccs_0.0001_l2')\n",
    "\n",
    "# Concatenate the two dataframes\n",
    "merged_linres = pd.concat([linres_1_1, linres_1_1_l2])\n",
    "\n",
    "# Reset index for the final dataframe\n",
    "merged_linres = merged_linres.set_index('level_0')\n",
    "\n",
    "# Optional: Sort the dataframe by the original index and method\n",
    "merged_linres = merged_linres.sort_values(by=['level_0', 'method'])\n",
    "\n",
    "\n",
    "print(merged_linres)"
   ],
   "metadata": {
    "collapsed": false,
    "ExecuteTime": {
     "end_time": "2024-06-25T22:39:35.855693Z",
     "start_time": "2024-06-25T22:39:35.845956Z"
    }
   },
   "execution_count": 106
  },
  {
   "cell_type": "code",
   "outputs": [],
   "source": [
    "new_labels = {\n",
    "    'causalrep_testctaccs_0.0001_l1': 'CAUSAL-REP \\nL1',\n",
    "    'causalrep_testctaccs_0.0001_l2': 'CAUSAL-REP \\nL2',\n",
    "    'naive_testct_lintestacc': 'Linear \\nregression',\n",
    "    'oracle_testct_lintestacc': 'Oracle'\n",
    "}"
   ],
   "metadata": {
    "collapsed": false,
    "ExecuteTime": {
     "end_time": "2024-06-25T16:27:11.703213Z",
     "start_time": "2024-06-25T16:27:11.697739Z"
    }
   },
   "execution_count": 85
  },
  {
   "cell_type": "code",
   "outputs": [
    {
     "name": "stderr",
     "output_type": "stream",
     "text": [
      "/var/folders/h3/mg_n_0ls7kgb1369wvkmb_dh0000gq/T/ipykernel_45088/4230656691.py:4: UserWarning: set_ticklabels() should only be used with a fixed number of ticks, i.e. after set_ticks() or using a FixedLocator.\n",
      "  g.set_xticklabels([new_labels[label.get_text()] for label in g.get_xticklabels()])\n"
     ]
    },
    {
     "data": {
      "text/plain": "<Figure size 500x300 with 1 Axes>",
      "image/png": "[encoded data removed]"
     },
     "metadata": {},
     "output_type": "display_data"
    }
   ],
   "source": [
    "plt.figure(figsize=(5,3))\n",
    "g = sns.boxplot(x=\"method\", y=\"acc\", data=merged_linres)\n",
    "# g.set(xticklabels=['CAUSAL-REP', 'Linear \\nregression', 'Oracle'])\n",
    "g.set_xticklabels([new_labels[label.get_text()] for label in g.get_xticklabels()])\n",
    "# g.set(ylim=(-1,1))\n",
    "g.set(xlabel='')\n",
    "g.set(ylabel='OOD Predictive R-squared')\n",
    "plt.tight_layout()\n",
    "plt.savefig('linear_synthetic_boxplot_l2.pdf')"
   ],
   "metadata": {
    "collapsed": false,
    "ExecuteTime": {
     "end_time": "2024-06-25T16:27:12.023401Z",
     "start_time": "2024-06-25T16:27:11.918034Z"
    }
   },
   "execution_count": 86
  },
  {
   "cell_type": "code",
   "outputs": [
    {
     "name": "stderr",
     "output_type": "stream",
     "text": [
      "/var/folders/h3/mg_n_0ls7kgb1369wvkmb_dh0000gq/T/ipykernel_45088/803046717.py:13: UserWarning: set_ticklabels() should only be used with a fixed number of ticks, i.e. after set_ticks() or using a FixedLocator.\n",
      "  g.set_xticklabels([f'alpha={label.get_text()}' for label in g.get_xticklabels()])\n"
     ]
    },
    {
     "data": {
      "text/plain": "<Figure size 500x300 with 1 Axes>",
      "image/png": "[encoded data removed]"
     },
     "metadata": {},
     "output_type": "display_data"
    }
   ],
   "source": [
    "\n",
    "# Define new labels\n",
    "new_labels = {\n",
    "    'causalrep_testctaccs_0.0001': 'CAUSAL-REP'\n",
    "}\n",
    "\n",
    "# Filter for causalrep_testctaccs_0.0001 method only\n",
    "causalrep_data = linres_1_1[linres_1_1['method'] == 'causalrep_testctaccs_0.0001']\n",
    "\n",
    "plt.figure(figsize=(5, 3))\n",
    "g = sns.boxplot(x=\"alpha\", y=\"acc\", data=causalrep_data)\n",
    "\n",
    "# Update x-axis labels\n",
    "g.set_xticklabels([f'alpha={label.get_text()}' for label in g.get_xticklabels()])\n",
    "\n",
    "# Set labels and limits\n",
    "g.set(xlabel='Alpha', ylabel='OOD Predictive R-squared')\n",
    "g.set(ylim=(0.4, 1))\n",
    "\n",
    "plt.title('CAUSAL-REP Performance by Alpha')\n",
    "plt.tight_layout()\n",
    "\n",
    "# Save the plot\n",
    "plt.savefig('linear_synthetic_boxplot_causalrep_alpha.pdf')\n",
    "plt.show()"
   ],
   "metadata": {
    "collapsed": false,
    "ExecuteTime": {
     "end_time": "2024-06-25T22:49:54.915996Z",
     "start_time": "2024-06-25T22:49:54.791133Z"
    }
   },
   "execution_count": 116
  },
  {
   "cell_type": "code",
   "outputs": [
    {
     "data": {
      "text/plain": "                            method       acc\nalpha                                       \n0.25   causalrep_testctaccs_0.0001  0.772796\n0.25   causalrep_testctaccs_0.0001  0.844499\n0.25   causalrep_testctaccs_0.0001  0.768117\n0.25   causalrep_testctaccs_0.0001  0.508237\n0.25   causalrep_testctaccs_0.0001  0.625833\n...                            ...       ...\nout    causalrep_testctaccs_0.0001  0.631739\nout    causalrep_testctaccs_0.0001  0.553757\nout    causalrep_testctaccs_0.0001  0.669201\nout    causalrep_testctaccs_0.0001  0.488011\nout    causalrep_testctaccs_0.0001  0.631739\n\n[3352 rows x 2 columns]",
      "text/html": "<div>\n<style scoped>\n    .dataframe tbody tr th:only-of-type {\n        vertical-align: middle;\n    }\n\n    .dataframe tbody tr th {\n        vertical-align: top;\n    }\n\n    .dataframe thead th {\n        text-align: right;\n    }\n</style>\n<table border=\"1\" class=\"dataframe\">\n  <thead>\n    <tr style=\"text-align: right;\">\n      <th></th>\n      <th>method</th>\n      <th>acc</th>\n    </tr>\n    <tr>\n      <th>alpha</th>\n      <th></th>\n      <th></th>\n    </tr>\n  </thead>\n  <tbody>\n    <tr>\n      <th>0.25</th>\n      <td>causalrep_testctaccs_0.0001</td>\n      <td>0.772796</td>\n    </tr>\n    <tr>\n      <th>0.25</th>\n      <td>causalrep_testctaccs_0.0001</td>\n      <td>0.844499</td>\n    </tr>\n    <tr>\n      <th>0.25</th>\n      <td>causalrep_testctaccs_0.0001</td>\n      <td>0.768117</td>\n    </tr>\n    <tr>\n      <th>0.25</th>\n      <td>causalrep_testctaccs_0.0001</td>\n      <td>0.508237</td>\n    </tr>\n    <tr>\n      <th>0.25</th>\n      <td>causalrep_testctaccs_0.0001</td>\n      <td>0.625833</td>\n    </tr>\n    <tr>\n      <th>...</th>\n      <td>...</td>\n      <td>...</td>\n    </tr>\n    <tr>\n      <th>out</th>\n      <td>causalrep_testctaccs_0.0001</td>\n      <td>0.631739</td>\n    </tr>\n    <tr>\n      <th>out</th>\n      <td>causalrep_testctaccs_0.0001</td>\n      <td>0.553757</td>\n    </tr>\n    <tr>\n      <th>out</th>\n      <td>causalrep_testctaccs_0.0001</td>\n      <td>0.669201</td>\n    </tr>\n    <tr>\n      <th>out</th>\n      <td>causalrep_testctaccs_0.0001</td>\n      <td>0.488011</td>\n    </tr>\n    <tr>\n      <th>out</th>\n      <td>causalrep_testctaccs_0.0001</td>\n      <td>0.631739</td>\n    </tr>\n  </tbody>\n</table>\n<p>3352 rows × 2 columns</p>\n</div>"
     },
     "execution_count": 117,
     "metadata": {},
     "output_type": "execute_result"
    }
   ],
   "source": [
    "causalrep_data"
   ],
   "metadata": {
    "collapsed": false,
    "ExecuteTime": {
     "end_time": "2024-06-26T23:41:22.696087Z",
     "start_time": "2024-06-26T23:41:22.685620Z"
    }
   },
   "execution_count": 117
  },
  {
   "cell_type": "code",
   "outputs": [
    {
     "name": "stderr",
     "output_type": "stream",
     "text": [
      "/var/folders/h3/mg_n_0ls7kgb1369wvkmb_dh0000gq/T/ipykernel_45088/2652780944.py:3: UserWarning: set_ticklabels() should only be used with a fixed number of ticks, i.e. after set_ticks() or using a FixedLocator.\n",
      "  g.set(xticklabels=['CAUSAL-REP', 'Linear \\nregression', 'Oracle'])\n"
     ]
    },
    {
     "data": {
      "text/plain": "<Figure size 400x300 with 1 Axes>",
      "image/png": "[encoded data removed]"
     },
     "metadata": {},
     "output_type": "display_data"
    }
   ],
   "source": [
    "plt.figure(figsize=(4,3))\n",
    "g = sns.boxplot(x=\"method\", y=\"acc\", data=linres_1_1)\n",
    "g.set(xticklabels=['CAUSAL-REP', 'Linear \\nregression', 'Oracle'])\n",
    "# g.set(ylim=(-1,1))\n",
    "g.set(xlabel='')\n",
    "g.set(ylabel='OOD Predictive R-squared')\n",
    "plt.tight_layout()\n",
    "plt.savefig('linear_synthetic_boxplot.pdf')"
   ],
   "metadata": {
    "ExecuteTime": {
     "end_time": "2024-06-25T16:26:27.292215Z",
     "start_time": "2024-06-25T16:26:27.204082Z"
    }
   },
   "execution_count": 84
  },
  {
   "cell_type": "code",
   "outputs": [
    {
     "data": {
      "text/plain": "                                  method       acc\nlevel_0                                           \n0        causalrep__testctaccs_0.0001_l2  0.844984\n0         causalrep_testctaccs_0.0001_l1  0.693089\n0         causalrep_testctaccs_0.0001_l1  0.576595\n0         causalrep_testctaccs_0.0001_l1  0.693008\n0         causalrep_testctaccs_0.0001_l1  0.592959\n...                                  ...       ...\n98               naive_testct_lintestacc  0.513550\n98              oracle_testct_lintestacc  0.821564\n99       causalrep__testctaccs_0.0001_l2  0.468455\n99               naive_testct_lintestacc  0.512205\n99              oracle_testct_lintestacc  0.804741\n\n[600 rows x 2 columns]",
      "text/html": "<div>\n<style scoped>\n    .dataframe tbody tr th:only-of-type {\n        vertical-align: middle;\n    }\n\n    .dataframe tbody tr th {\n        vertical-align: top;\n    }\n\n    .dataframe thead th {\n        text-align: right;\n    }\n</style>\n<table border=\"1\" class=\"dataframe\">\n  <thead>\n    <tr style=\"text-align: right;\">\n      <th></th>\n      <th>method</th>\n      <th>acc</th>\n    </tr>\n    <tr>\n      <th>level_0</th>\n      <th></th>\n      <th></th>\n    </tr>\n  </thead>\n  <tbody>\n    <tr>\n      <th>0</th>\n      <td>causalrep__testctaccs_0.0001_l2</td>\n      <td>0.844984</td>\n    </tr>\n    <tr>\n      <th>0</th>\n      <td>causalrep_testctaccs_0.0001_l1</td>\n      <td>0.693089</td>\n    </tr>\n    <tr>\n      <th>0</th>\n      <td>causalrep_testctaccs_0.0001_l1</td>\n      <td>0.576595</td>\n    </tr>\n    <tr>\n      <th>0</th>\n      <td>causalrep_testctaccs_0.0001_l1</td>\n      <td>0.693008</td>\n    </tr>\n    <tr>\n      <th>0</th>\n      <td>causalrep_testctaccs_0.0001_l1</td>\n      <td>0.592959</td>\n    </tr>\n    <tr>\n      <th>...</th>\n      <td>...</td>\n      <td>...</td>\n    </tr>\n    <tr>\n      <th>98</th>\n      <td>naive_testct_lintestacc</td>\n      <td>0.513550</td>\n    </tr>\n    <tr>\n      <th>98</th>\n      <td>oracle_testct_lintestacc</td>\n      <td>0.821564</td>\n    </tr>\n    <tr>\n      <th>99</th>\n      <td>causalrep__testctaccs_0.0001_l2</td>\n      <td>0.468455</td>\n    </tr>\n    <tr>\n      <th>99</th>\n      <td>naive_testct_lintestacc</td>\n      <td>0.512205</td>\n    </tr>\n    <tr>\n      <th>99</th>\n      <td>oracle_testct_lintestacc</td>\n      <td>0.804741</td>\n    </tr>\n  </tbody>\n</table>\n<p>600 rows × 2 columns</p>\n</div>"
     },
     "execution_count": 71,
     "metadata": {},
     "output_type": "execute_result"
    }
   ],
   "source": [
    "merged_linres"
   ],
   "metadata": {
    "collapsed": false,
    "ExecuteTime": {
     "end_time": "2024-06-25T16:20:33.113890Z",
     "start_time": "2024-06-25T16:20:33.108269Z"
    }
   },
   "execution_count": 71
  },
  {
   "cell_type": "code",
   "execution_count": null,
   "metadata": {},
   "outputs": [],
   "source": [
    "plt.figure(figsize=(4,3))\n",
    "# g = sns.swarmplot(x=\"method\", y=\"acc\", data=linres_1_1)\n",
    "# g.set(xticklabels=['CAUSAL-REP', 'Linear \\nregression', 'Oracle'])\n",
    "g = sns.swarmplot(x=\"method\", y=\"acc\", data=merged_linres)\n",
    "g.set(xticklabels=[new_labels[label.get_text()] for label in g.get_xticklabels()])\n",
    "g.set(xlabel='')\n",
    "g.set(ylabel='OOD Predictive R-squared')\n",
    "plt.tight_layout()\n",
    "plt.savefig('linear_synthetic_swarmplot_l2.pdf')"
   ]
  },
  {
   "cell_type": "code",
   "execution_count": null,
   "metadata": {},
   "outputs": [],
   "source": []
  }
 ],
 "metadata": {
  "kernelspec": {
   "display_name": "Python 3",
   "language": "python",
   "name": "python3"
  },
  "language_info": {
   "codemirror_mode": {
    "name": "ipython",
    "version": 3
   },
   "file_extension": ".py",
   "mimetype": "text/x-python",
   "name": "python",
   "nbconvert_exporter": "python",
   "pygments_lexer": "ipython3",
   "version": "3.7.2"
  }
 },
 "nbformat": 4,
 "nbformat_minor": 2
}
