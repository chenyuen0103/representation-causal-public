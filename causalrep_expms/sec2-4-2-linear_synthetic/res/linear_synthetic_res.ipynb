{
 "cells": [
  {
   "cell_type": "code",
   "execution_count": 24,
   "metadata": {
    "ExecuteTime": {
     "end_time": "2024-06-25T04:41:10.925127Z",
     "start_time": "2024-06-25T04:41:10.920344Z"
    }
   },
   "outputs": [],
   "source": [
    "import matplotlib.pyplot as plt\n",
    "import seaborn as sns\n",
    "import os\n",
    "from fnmatch import fnmatch\n",
    "import pandas as pd\n",
    "import numpy as np\n",
    "import time\n",
    "\n",
    "\n",
    "sns.set_style(\"white\")"
   ]
  },
  {
   "cell_type": "code",
   "outputs": [
    {
     "name": "stdout",
     "output_type": "stream",
     "text": [
      "../src/out/spurious_linear_l11719284510016680.csv\n",
      "renamed\n",
      "../src/out/spurious_linear_l11719279176973544.csv\n",
      "renamed\n",
      "../src/out/spurious_linear_l11719280504631938.csv\n",
      "renamed\n",
      "../src/out/spurious_linear_l11719283726185002.csv\n",
      "renamed\n",
      "../src/out/spurious_linear_l11719278611374313.csv\n",
      "renamed\n",
      "../src/out/spurious_linear_l11719281081644821.csv\n",
      "renamed\n",
      "../src/out/spurious_linear_l11719278989448885.csv\n",
      "renamed\n",
      "../src/out/spurious_linear_l11719278487501799.csv\n",
      "renamed\n",
      "../src/out/spurious_linear_l11719281725706154.csv\n",
      "renamed\n",
      "../src/out/spurious_linear_l11719284697233252.csv\n",
      "renamed\n",
      "../src/out/spurious_linear_l11719281361472561.csv\n",
      "renamed\n",
      "../src/out/spurious_linear_l11719285107871956.csv\n",
      "renamed\n",
      "../src/out/spurious_linear_l11719285037641383.csv\n",
      "renamed\n",
      "../src/out/spurious_linear_l11719282230951123.csv\n",
      "renamed\n",
      "../src/out/spurious_linear_l11719279641144257.csv\n",
      "renamed\n",
      "../src/out/spurious_linear_l11719283155246213.csv\n",
      "renamed\n",
      "../src/out/spurious_linear_l11719280433801953.csv\n",
      "renamed\n",
      "../src/out/spurious_linear_l11719280028191724.csv\n",
      "renamed\n",
      "../src/out/spurious_linear_l11719279702647901.csv\n",
      "renamed\n",
      "../src/out/spurious_linear_l11719280299882875.csv\n",
      "renamed\n",
      "../src/out/spurious_linear_l11719278425103276.csv\n",
      "renamed\n",
      "../src/out/spurious_linear_l11719283800862268.csv\n",
      "renamed\n",
      "../src/out/spurious_linear_l11719283941267940.csv\n",
      "renamed\n",
      "../src/out/spurious_linear_l11719279115573231.csv\n",
      "renamed\n",
      "../src/out/spurious_linear_l11719281154118731.csv\n",
      "renamed\n",
      "../src/out/spurious_linear_l11719284296580532.csv\n",
      "renamed\n",
      "../src/out/spurious_linear_l11719279575110073.csv\n",
      "renamed\n",
      "../src/out/spurious_linear_l11719280795127970.csv\n",
      "renamed\n",
      "../src/out/spurious_linear_l11719279512016875.csv\n",
      "renamed\n",
      "../src/out/spurious_linear_l11719282010191011.csv\n",
      "renamed\n",
      "../src/out/spurious_linear_l11719284827711714.csv\n",
      "renamed\n",
      "../src/out/spurious_linear_l11719283656676632.csv\n",
      "renamed\n",
      "../src/out/spurious_linear_l11719284762100875.csv\n",
      "renamed\n",
      "../src/out/spurious_linear_l11719279241836677.csv\n",
      "renamed\n",
      "../src/out/spurious_linear_l11719282943246878.csv\n",
      "renamed\n",
      "../src/out/spurious_linear_l11719281509822279.csv\n",
      "renamed\n",
      "../src/out/spurious_linear_l11719284896706610.csv\n",
      "renamed\n",
      "../src/out/spurious_linear_l11719280574286747.csv\n",
      "renamed\n",
      "../src/out/spurious_linear_l11719279958040817.csv\n",
      "renamed\n",
      "../src/out/spurious_linear_l11719278867245462.csv\n",
      "renamed\n",
      "../src/out/spurious_linear_l11719283512146124.csv\n",
      "renamed\n",
      "../src/out/spurious_linear_l11719279765775565.csv\n",
      "renamed\n",
      "../src/out/spurious_linear_l11719283439883963.csv\n",
      "renamed\n",
      "../src/out/spurious_linear_l11719279446722549.csv\n",
      "renamed\n",
      "../src/out/spurious_linear_l11719280365439359.csv\n",
      "renamed\n",
      "../src/out/spurious_linear_l11719282159197003.csv\n",
      "renamed\n",
      "../src/out/spurious_linear_l11719280933824452.csv\n",
      "renamed\n",
      "../src/out/spurious_linear_l11719282868235851.csv\n",
      "renamed\n",
      "../src/out/spurious_linear_l11719281219934066.csv\n",
      "renamed\n",
      "../src/out/spurious_linear_l11719282655782412.csv\n",
      "renamed\n",
      "../src/out/spurious_linear_l11719281010440136.csv\n",
      "renamed\n",
      "../src/out/spurious_linear_l11719280097056895.csv\n",
      "renamed\n",
      "../src/out/spurious_linear_l11719283868605142.csv\n",
      "renamed\n",
      "../src/out/spurious_linear_l11719284082665302.csv\n",
      "renamed\n",
      "../src/out/spurious_linear_l11719284442911100.csv\n",
      "renamed\n",
      "../src/out/spurious_linear_l11719283367642450.csv\n",
      "renamed\n",
      "../src/out/spurious_linear_l11719279377740546.csv\n",
      "renamed\n",
      "../src/out/spurious_linear_l11719279893149626.csv\n",
      "renamed\n",
      "../src/out/spurious_linear_l11719280640093471.csv\n",
      "renamed\n",
      "../src/out/spurious_linear_l11719278930296414.csv\n",
      "renamed\n",
      "../src/out/spurious_linear_l11719281441835103.csv\n",
      "renamed\n",
      "../src/out/spurious_linear_l11719283082755170.csv\n",
      "renamed\n",
      "../src/out/spurious_linear_l11719281870023189.csv\n",
      "renamed\n",
      "../src/out/spurious_linear_l11719282724141308.csv\n",
      "renamed\n",
      "../src/out/spurious_linear_l11719285250004048.csv\n",
      "renamed\n",
      "../src/out/spurious_linear_l11719282433379244.csv\n",
      "renamed\n",
      "../src/out/spurious_linear_l11719281286656772.csv\n",
      "renamed\n",
      "../src/out/spurious_linear_l11719282508449608.csv\n",
      "renamed\n",
      "../src/out/spurious_linear_l11719284227052974.csv\n",
      "renamed\n",
      "../src/out/spurious_linear_l11719280165084542.csv\n",
      "renamed\n",
      "../src/out/spurious_linear_l11719280717727246.csv\n",
      "renamed\n",
      "../src/out/spurious_linear_l11719281939390322.csv\n",
      "renamed\n",
      "../src/out/spurious_linear_l11719283295460077.csv\n",
      "renamed\n",
      "../src/out/spurious_linear_l11719280231850139.csv\n",
      "renamed\n",
      "../src/out/spurious_linear_l11719278549283488.csv\n",
      "renamed\n",
      "../src/out/spurious_linear_l11719282084674130.csv\n",
      "renamed\n",
      "../src/out/spurious_linear_l11719285177831312.csv\n",
      "renamed\n",
      "../src/out/spurious_linear_l11719281579550480.csv\n",
      "renamed\n",
      "../src/out/spurious_linear_l11719284156357509.csv\n",
      "renamed\n",
      "../src/out/spurious_linear_l11719284369339718.csv\n",
      "renamed\n",
      "../src/out/spurious_linear_l11719282365202460.csv\n",
      "renamed\n",
      "../src/out/spurious_linear_l11719278802964565.csv\n",
      "renamed\n",
      "../src/out/spurious_linear_l11719279832851663.csv\n",
      "renamed\n",
      "../src/out/spurious_linear_l11719283015784147.csv\n",
      "renamed\n",
      "../src/out/spurious_linear_l11719280865158856.csv\n",
      "renamed\n",
      "../src/out/spurious_linear_l11719281797897216.csv\n",
      "renamed\n",
      "../src/out/spurious_linear_l11719279049975318.csv\n",
      "renamed\n",
      "../src/out/spurious_linear_l11719284571581977.csv\n",
      "renamed\n",
      "../src/out/spurious_linear_l11719284011967083.csv\n",
      "renamed\n",
      "../src/out/spurious_linear_l11719282580045127.csv\n",
      "renamed\n",
      "../src/out/spurious_linear_l11719278677562460.csv\n",
      "renamed\n",
      "../src/out/spurious_linear_l11719284633832837.csv\n",
      "renamed\n",
      "../src/out/spurious_linear_l11719283226755927.csv\n",
      "renamed\n",
      "../src/out/spurious_linear_l11719283580657226.csv\n",
      "renamed\n",
      "../src/out/spurious_linear_l11719281652988673.csv\n",
      "renamed\n",
      "../src/out/spurious_linear_l11719282795198677.csv\n",
      "renamed\n",
      "../src/out/spurious_linear_l11719284962335583.csv\n",
      "renamed\n",
      "../src/out/spurious_linear_l11719282294327660.csv\n",
      "renamed\n",
      "../src/out/spurious_linear_l11719279310214098.csv\n",
      "renamed\n",
      "../src/out/spurious_linear_l11719278742106585.csv\n",
      "renamed\n"
     ]
    }
   ],
   "source": [
    "# accumulate fit random seed in the /src director\n",
    "pattern = \"*.csv\"\n",
    "outfilenames = []\n",
    "for path, subdirs, files in os.walk('../src/out/'):\n",
    "    \n",
    "    for name in files:\n",
    "        if fnmatch(name, pattern):\n",
    "            if 'spurious_linear_l11' in name:\n",
    "                # rename the file\n",
    "                os.rename(os.path.join(path, name), os.path.join(path, name.replace('spurious_linear_l11', 'spurious_linear_l1_1')))\n",
    "                print('renamed')"
   ],
   "metadata": {
    "collapsed": false,
    "ExecuteTime": {
     "end_time": "2024-06-25T04:55:36.660050Z",
     "start_time": "2024-06-25T04:55:36.641754Z"
    }
   },
   "execution_count": 41
  },
  {
   "cell_type": "code",
   "execution_count": 47,
   "metadata": {
    "ExecuteTime": {
     "end_time": "2024-06-25T04:56:47.596084Z",
     "start_time": "2024-06-25T04:56:47.377137Z"
    }
   },
   "outputs": [],
   "source": [
    "# accumulate fit random seed in the /src director\n",
    "pattern = \"*.csv\"\n",
    "outfilenames = []\n",
    "for path, subdirs, files in os.walk('../src/out/'):\n",
    "    for name in files:\n",
    "        if fnmatch(name, pattern):\n",
    "            outfilenames.append(os.path.join(path, name)) \n",
    "\n",
    "\n",
    "dataframes = [pd.read_csv(df) for df in outfilenames]\n",
    "if len(dataframes) > 0:\n",
    "    df_concat = pd.concat(dataframes)\n",
    "    df_concat.to_csv('linear_synthetic_agg_'+str(int(time.time()*1e6))+'.csv')\n"
   ]
  },
  {
   "cell_type": "code",
   "outputs": [],
   "source": [
    "dataframes = [pd.read_csv(df) for df in outfilenames]\n",
    "if len(dataframes) > 0:\n",
    "    df_concat = pd.concat(dataframes)\n",
    "    df_concat.to_csv('linear_synthetic_agg_'+str(int(time.time()*1e6))+'.csv')"
   ],
   "metadata": {
    "collapsed": false,
    "ExecuteTime": {
     "end_time": "2024-06-25T04:56:48.320243Z",
     "start_time": "2024-06-25T04:56:48.171896Z"
    }
   },
   "execution_count": 48
  },
  {
   "cell_type": "code",
   "execution_count": 50,
   "metadata": {
    "ExecuteTime": {
     "end_time": "2024-06-25T04:56:53.570486Z",
     "start_time": "2024-06-25T04:56:53.560352Z"
    }
   },
   "outputs": [],
   "source": [
    "df_concat_l2 = pd.read_csv(\"linear_synthetic_agg_1630302542600186.csv\")\n",
    "\n",
    "linres = df_concat\n",
    "linres_l2 = df_concat_l2\n",
    "# print(list(linres.columns))\n",
    "\n",
    "subres_testct =  linres[[\n",
    "'causalrep_testctaccs_0.1', \\\n",
    "'naive_testct_lintestacc', \\\n",
    "'oracle_testct_lintestacc', \\\n",
    "'spurious_corr']]\n",
    "\n",
    "subres_testobs =  linres[['causalrep_testobsaccs_0.01', \\\n",
    "'naive_testobs_lintestacc', \\\n",
    "'oracle_testobs_lintestacc', \\\n",
    "'spurious_corr']]\n",
    "\n",
    "\n",
    "\n",
    "# plot diagonal line\n",
    "def plot_unity(xdata, ydata, **kwargs):\n",
    "    mn = min(xdata.min(), ydata.min())\n",
    "    mx = max(xdata.max(), ydata.max())\n",
    "    points = np.linspace(mn, mx, 100)\n",
    "    plt.gca().plot(points, points, color='k', marker=None,\n",
    "            linestyle='--', linewidth=1.0)"
   ]
  },
  {
   "cell_type": "code",
   "outputs": [],
   "source": [
    "subres_testct_l2 =  linres_l2[[\n",
    "'causalrep_testctaccs_0.1', \\\n",
    "'naive_testct_lintestacc', \\\n",
    "'oracle_testct_lintestacc', \\\n",
    "'spurious_corr']]\n",
    "\n",
    "subres_testobs_l2 =  linres_l2[['causalrep_testobsaccs_0.01', \\\n",
    "'naive_testobs_lintestacc', \\\n",
    "'oracle_testobs_lintestacc', \\\n",
    "'spurious_corr']]"
   ],
   "metadata": {
    "collapsed": false,
    "ExecuteTime": {
     "end_time": "2024-06-25T04:56:56.056404Z",
     "start_time": "2024-06-25T04:56:56.049554Z"
    }
   },
   "execution_count": 51
  },
  {
   "cell_type": "code",
   "execution_count": 52,
   "metadata": {
    "ExecuteTime": {
     "end_time": "2024-06-25T04:56:56.294292Z",
     "start_time": "2024-06-25T04:56:56.291526Z"
    }
   },
   "outputs": [],
   "source": [
    "# linres = df_concat[(df_concat['neg_corr']==1) & (df_concat['pm_coef']==1)]"
   ]
  },
  {
   "cell_type": "code",
   "execution_count": 77,
   "metadata": {
    "ExecuteTime": {
     "end_time": "2024-06-25T16:24:47.568758Z",
     "start_time": "2024-06-25T16:24:47.564043Z"
    }
   },
   "outputs": [],
   "source": [
    "linres_1_1 = linres[[\n",
    "'causalrep_testctaccs_0.0001', \\\n",
    "'naive_testct_lintestacc', \\\n",
    "'oracle_testct_lintestacc']].stack().reset_index().set_index('level_0').rename(columns={'level_1':'method',0:'acc'})"
   ]
  },
  {
   "cell_type": "code",
   "outputs": [],
   "source": [
    "linres_1_1_l2 = linres_l2[[\n",
    "'causalrep_testctaccs_0.0001', \\\n",
    "'naive_testct_lintestacc', \\\n",
    "'oracle_testct_lintestacc']].stack().reset_index().set_index('level_0').rename(columns={'level_1':'method',0:'acc'})"
   ],
   "metadata": {
    "collapsed": false,
    "ExecuteTime": {
     "end_time": "2024-06-25T16:24:47.900347Z",
     "start_time": "2024-06-25T16:24:47.896515Z"
    }
   },
   "execution_count": 78
  },
  {
   "cell_type": "code",
   "outputs": [
    {
     "name": "stdout",
     "output_type": "stream",
     "text": [
      "                                 method       acc\n",
      "level_0                                          \n",
      "0        causalrep_testctaccs_0.0001_l1  0.693089\n",
      "0        causalrep_testctaccs_0.0001_l1  0.576595\n",
      "0        causalrep_testctaccs_0.0001_l1  0.693008\n",
      "0        causalrep_testctaccs_0.0001_l1  0.592959\n",
      "0        causalrep_testctaccs_0.0001_l1  0.811043\n",
      "...                                 ...       ...\n",
      "98              naive_testct_lintestacc  0.513550\n",
      "98             oracle_testct_lintestacc  0.821564\n",
      "99       causalrep_testctaccs_0.0001_l2  0.468455\n",
      "99              naive_testct_lintestacc  0.512205\n",
      "99             oracle_testct_lintestacc  0.804741\n",
      "\n",
      "[600 rows x 2 columns]\n"
     ]
    }
   ],
   "source": [
    "# Rename the 'causalrep' method in both dataframes\n",
    "linres_1_1 = linres_1_1.reset_index()\n",
    "linres_1_1['method'] = linres_1_1['method'].replace('causalrep_testctaccs_0.0001', 'causalrep_testctaccs_0.0001_l1')\n",
    "\n",
    "linres_1_1_l2 = linres_1_1_l2.reset_index()\n",
    "linres_1_1_l2['method'] = linres_1_1_l2['method'].replace('causalrep_testctaccs_0.0001', 'causalrep_testctaccs_0.0001_l2')\n",
    "\n",
    "# Concatenate the two dataframes\n",
    "merged_linres = pd.concat([linres_1_1, linres_1_1_l2])\n",
    "\n",
    "# Reset index for the final dataframe\n",
    "merged_linres = merged_linres.set_index('level_0')\n",
    "\n",
    "# Optional: Sort the dataframe by the original index and method\n",
    "merged_linres = merged_linres.sort_values(by=['level_0', 'method'])\n",
    "\n",
    "\n",
    "print(merged_linres)"
   ],
   "metadata": {
    "collapsed": false,
    "ExecuteTime": {
     "end_time": "2024-06-25T16:24:48.560892Z",
     "start_time": "2024-06-25T16:24:48.553595Z"
    }
   },
   "execution_count": 79
  },
  {
   "cell_type": "code",
   "outputs": [],
   "source": [
    "new_labels = {\n",
    "    'causalrep_testctaccs_0.0001_l1': 'CAUSAL-REP \\nL1',\n",
    "    'causalrep_testctaccs_0.0001_l2': 'CAUSAL-REP \\nL2',\n",
    "    'naive_testct_lintestacc': 'Linear \\nregression',\n",
    "    'oracle_testct_lintestacc': 'Oracle'\n",
    "}"
   ],
   "metadata": {
    "collapsed": false,
    "ExecuteTime": {
     "end_time": "2024-06-25T16:27:11.703213Z",
     "start_time": "2024-06-25T16:27:11.697739Z"
    }
   },
   "execution_count": 85
  },
  {
   "cell_type": "code",
   "outputs": [
    {
     "name": "stderr",
     "output_type": "stream",
     "text": [
      "/var/folders/h3/mg_n_0ls7kgb1369wvkmb_dh0000gq/T/ipykernel_45088/4230656691.py:4: UserWarning: set_ticklabels() should only be used with a fixed number of ticks, i.e. after set_ticks() or using a FixedLocator.\n",
      "  g.set_xticklabels([new_labels[label.get_text()] for label in g.get_xticklabels()])\n"
     ]
    },
    {
     "data": {
      "text/plain": "<Figure size 500x300 with 1 Axes>",
      "image/png": "[encoded data removed]"
     },
     "metadata": {},
     "output_type": "display_data"
    }
   ],
   "source": [
    "plt.figure(figsize=(5,3))\n",
    "g = sns.boxplot(x=\"method\", y=\"acc\", data=merged_linres)\n",
    "# g.set(xticklabels=['CAUSAL-REP', 'Linear \\nregression', 'Oracle'])\n",
    "g.set_xticklabels([new_labels[label.get_text()] for label in g.get_xticklabels()])\n",
    "# g.set(ylim=(-1,1))\n",
    "g.set(xlabel='')\n",
    "g.set(ylabel='OOD Predictive R-squared')\n",
    "plt.tight_layout()\n",
    "plt.savefig('linear_synthetic_boxplot_l2.pdf')"
   ],
   "metadata": {
    "collapsed": false,
    "ExecuteTime": {
     "end_time": "2024-06-25T16:27:12.023401Z",
     "start_time": "2024-06-25T16:27:11.918034Z"
    }
   },
   "execution_count": 86
  },
  {
   "cell_type": "code",
   "outputs": [
    {
     "name": "stderr",
     "output_type": "stream",
     "text": [
      "/var/folders/h3/mg_n_0ls7kgb1369wvkmb_dh0000gq/T/ipykernel_45088/2652780944.py:3: UserWarning: set_ticklabels() should only be used with a fixed number of ticks, i.e. after set_ticks() or using a FixedLocator.\n",
      "  g.set(xticklabels=['CAUSAL-REP', 'Linear \\nregression', 'Oracle'])\n"
     ]
    },
    {
     "data": {
      "text/plain": "<Figure size 400x300 with 1 Axes>",
      "image/png": "[encoded data removed]"
     },
     "metadata": {},
     "output_type": "display_data"
    }
   ],
   "source": [
    "plt.figure(figsize=(4,3))\n",
    "g = sns.boxplot(x=\"method\", y=\"acc\", data=linres_1_1)\n",
    "g.set(xticklabels=['CAUSAL-REP', 'Linear \\nregression', 'Oracle'])\n",
    "# g.set(ylim=(-1,1))\n",
    "g.set(xlabel='')\n",
    "g.set(ylabel='OOD Predictive R-squared')\n",
    "plt.tight_layout()\n",
    "plt.savefig('linear_synthetic_boxplot.pdf')"
   ],
   "metadata": {
    "ExecuteTime": {
     "end_time": "2024-06-25T16:26:27.292215Z",
     "start_time": "2024-06-25T16:26:27.204082Z"
    }
   },
   "execution_count": 84
  },
  {
   "cell_type": "code",
   "outputs": [
    {
     "data": {
      "text/plain": "                                  method       acc\nlevel_0                                           \n0        causalrep__testctaccs_0.0001_l2  0.844984\n0         causalrep_testctaccs_0.0001_l1  0.693089\n0         causalrep_testctaccs_0.0001_l1  0.576595\n0         causalrep_testctaccs_0.0001_l1  0.693008\n0         causalrep_testctaccs_0.0001_l1  0.592959\n...                                  ...       ...\n98               naive_testct_lintestacc  0.513550\n98              oracle_testct_lintestacc  0.821564\n99       causalrep__testctaccs_0.0001_l2  0.468455\n99               naive_testct_lintestacc  0.512205\n99              oracle_testct_lintestacc  0.804741\n\n[600 rows x 2 columns]",
      "text/html": "<div>\n<style scoped>\n    .dataframe tbody tr th:only-of-type {\n        vertical-align: middle;\n    }\n\n    .dataframe tbody tr th {\n        vertical-align: top;\n    }\n\n    .dataframe thead th {\n        text-align: right;\n    }\n</style>\n<table border=\"1\" class=\"dataframe\">\n  <thead>\n    <tr style=\"text-align: right;\">\n      <th></th>\n      <th>method</th>\n      <th>acc</th>\n    </tr>\n    <tr>\n      <th>level_0</th>\n      <th></th>\n      <th></th>\n    </tr>\n  </thead>\n  <tbody>\n    <tr>\n      <th>0</th>\n      <td>causalrep__testctaccs_0.0001_l2</td>\n      <td>0.844984</td>\n    </tr>\n    <tr>\n      <th>0</th>\n      <td>causalrep_testctaccs_0.0001_l1</td>\n      <td>0.693089</td>\n    </tr>\n    <tr>\n      <th>0</th>\n      <td>causalrep_testctaccs_0.0001_l1</td>\n      <td>0.576595</td>\n    </tr>\n    <tr>\n      <th>0</th>\n      <td>causalrep_testctaccs_0.0001_l1</td>\n      <td>0.693008</td>\n    </tr>\n    <tr>\n      <th>0</th>\n      <td>causalrep_testctaccs_0.0001_l1</td>\n      <td>0.592959</td>\n    </tr>\n    <tr>\n      <th>...</th>\n      <td>...</td>\n      <td>...</td>\n    </tr>\n    <tr>\n      <th>98</th>\n      <td>naive_testct_lintestacc</td>\n      <td>0.513550</td>\n    </tr>\n    <tr>\n      <th>98</th>\n      <td>oracle_testct_lintestacc</td>\n      <td>0.821564</td>\n    </tr>\n    <tr>\n      <th>99</th>\n      <td>causalrep__testctaccs_0.0001_l2</td>\n      <td>0.468455</td>\n    </tr>\n    <tr>\n      <th>99</th>\n      <td>naive_testct_lintestacc</td>\n      <td>0.512205</td>\n    </tr>\n    <tr>\n      <th>99</th>\n      <td>oracle_testct_lintestacc</td>\n      <td>0.804741</td>\n    </tr>\n  </tbody>\n</table>\n<p>600 rows × 2 columns</p>\n</div>"
     },
     "execution_count": 71,
     "metadata": {},
     "output_type": "execute_result"
    }
   ],
   "source": [
    "merged_linres"
   ],
   "metadata": {
    "collapsed": false,
    "ExecuteTime": {
     "end_time": "2024-06-25T16:20:33.113890Z",
     "start_time": "2024-06-25T16:20:33.108269Z"
    }
   },
   "execution_count": 71
  },
  {
   "cell_type": "code",
   "execution_count": 69,
   "metadata": {
    "ExecuteTime": {
     "end_time": "2024-06-25T16:19:51.057714Z",
     "start_time": "2024-06-25T16:19:50.704329Z"
    }
   },
   "outputs": [
    {
     "name": "stderr",
     "output_type": "stream",
     "text": [
      "/Users/yuenc2/anaconda3/envs/gender/lib/python3.9/site-packages/seaborn/categorical.py:3399: UserWarning: 23.0% of the points cannot be placed; you may want to decrease the size of the markers or use stripplot.\n",
      "  warnings.warn(msg, UserWarning)\n",
      "/var/folders/h3/mg_n_0ls7kgb1369wvkmb_dh0000gq/T/ipykernel_45088/964642295.py:3: UserWarning: set_ticklabels() should only be used with a fixed number of ticks, i.e. after set_ticks() or using a FixedLocator.\n",
      "  g.set(xticklabels=['CAUSAL-REP', 'Linear \\nregression', 'Oracle'])\n",
      "/Users/yuenc2/anaconda3/envs/gender/lib/python3.9/site-packages/seaborn/categorical.py:3399: UserWarning: 38.0% of the points cannot be placed; you may want to decrease the size of the markers or use stripplot.\n",
      "  warnings.warn(msg, UserWarning)\n",
      "/Users/yuenc2/anaconda3/envs/gender/lib/python3.9/site-packages/seaborn/categorical.py:3399: UserWarning: 38.0% of the points cannot be placed; you may want to decrease the size of the markers or use stripplot.\n",
      "  warnings.warn(msg, UserWarning)\n"
     ]
    },
    {
     "data": {
      "text/plain": "<Figure size 400x300 with 1 Axes>",
      "image/png": "[encoded data removed]"
     },
     "metadata": {},
     "output_type": "display_data"
    }
   ],
   "source": [
    "plt.figure(figsize=(4,3))\n",
    "g = sns.swarmplot(x=\"method\", y=\"acc\", data=linres_1_1)\n",
    "g.set(xticklabels=['CAUSAL-REP', 'Linear \\nregression', 'Oracle'])\n",
    "g.set(xlabel='')\n",
    "g.set(ylabel='OOD Predictive R-squared')\n",
    "plt.tight_layout()\n",
    "plt.savefig('linear_synthetic_swarmplot_l2.pdf')"
   ]
  },
  {
   "cell_type": "code",
   "execution_count": null,
   "metadata": {},
   "outputs": [],
   "source": []
  }
 ],
 "metadata": {
  "kernelspec": {
   "display_name": "Python 3",
   "language": "python",
   "name": "python3"
  },
  "language_info": {
   "codemirror_mode": {
    "name": "ipython",
    "version": 3
   },
   "file_extension": ".py",
   "mimetype": "text/x-python",
   "name": "python",
   "nbconvert_exporter": "python",
   "pygments_lexer": "ipython3",
   "version": "3.7.2"
  }
 },
 "nbformat": 4,
 "nbformat_minor": 2
}
